{
 "cells": [
  {
   "cell_type": "code",
   "execution_count": 9,
   "id": "ea0186f4-8cb6-4e8b-be5f-4a4ac7227d5f",
   "metadata": {},
   "outputs": [],
   "source": [
    "from transformers import pipeline\n",
    "import torch"
   ]
  },
  {
   "cell_type": "raw",
   "id": "201636f0-dc5c-4ac6-b450-6716ef39ca81",
   "metadata": {},
   "source": [
    "generator = pipeline(\n",
    "    'text-generation', \n",
    "    model='EleutherAI/gpt-neo-2.7B',\n",
    "    device=0 if torch.cuda.is_available() else -1  # Use GPU if available\n",
    ")\n"
   ]
  },
  {
   "cell_type": "code",
   "execution_count": 14,
   "id": "e139ea9d-8c95-4f31-bef2-1b5ab4e4eded",
   "metadata": {},
   "outputs": [],
   "source": [
    "response = generator(\n",
    "    \"What day is today and is goint to rain in San Nicolas de los Garza?\",\n",
    "    max_new_tokens=50,  # Number of new tokens to generate\n",
    "    do_sample=True,     # Enable random sampling\n",
    "    temperature=0.9,    # Controls randomness (lower = more deterministic)\n",
    "    pad_token_id=50256, # Explicitly set pad token\n",
    "    eos_token_id=50256  # Explicitly set end-of-sequence token\n",
    ")\n"
   ]
  },
  {
   "cell_type": "code",
   "execution_count": 15,
   "id": "0481379c-1a8c-4d8f-b264-e5df919709b8",
   "metadata": {},
   "outputs": [
    {
     "name": "stdout",
     "output_type": "stream",
     "text": [
      "What day is today and is goint to rain in San Nicolas de los Garza?. If a storm or anything is going to affect the weather in San Nicolas, what time to the people that live here in San Nicolas?. This is the only free weather app that you will need: Weather Pro. Get the best weather forecast in\n"
     ]
    }
   ],
   "source": [
    "print(response[0]['generated_text'])"
   ]
  },
  {
   "cell_type": "code",
   "execution_count": null,
   "id": "f8370a91-518d-48a3-a25f-ca1ab640fb43",
   "metadata": {},
   "outputs": [],
   "source": []
  }
 ],
 "metadata": {
  "kernelspec": {
   "display_name": "Python 3 (ipykernel)",
   "language": "python",
   "name": "python3"
  },
  "language_info": {
   "codemirror_mode": {
    "name": "ipython",
    "version": 3
   },
   "file_extension": ".py",
   "mimetype": "text/x-python",
   "name": "python",
   "nbconvert_exporter": "python",
   "pygments_lexer": "ipython3",
   "version": "3.13.0"
  }
 },
 "nbformat": 4,
 "nbformat_minor": 5
}
